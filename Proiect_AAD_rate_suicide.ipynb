{
  "nbformat": 4,
  "nbformat_minor": 0,
  "metadata": {
    "colab": {
      "provenance": [],
      "include_colab_link": true
    },
    "kernelspec": {
      "name": "python3",
      "display_name": "Python 3"
    },
    "language_info": {
      "name": "python"
    }
  },
  "cells": [
    {
      "cell_type": "markdown",
      "metadata": {
        "id": "view-in-github",
        "colab_type": "text"
      },
      "source": [
        "<a href=\"https://colab.research.google.com/github/ClaudiaA18/AAD/blob/main/Proiect_AAD_rate_suicide.ipynb\" target=\"_parent\"><img src=\"https://colab.research.google.com/assets/colab-badge.svg\" alt=\"Open In Colab\"/></a>"
      ]
    },
    {
      "cell_type": "markdown",
      "source": [
        "# Componenta Echipa\n",
        "*   Cioată Dragoș-Robert 341C2\n",
        "*   Gîrniță Alexandra-Claudia 343C5\n",
        "*   Popescu Maria-Teodora 345C1\n",
        "\n",
        "Link document principal:\n",
        "https://docs.google.com/document/d/1dmxGUODDx3lIvLtH-igWeGqKlDcRgvW-3UHiHmCelSU/edit?tab=t.0\n",
        "\n",
        "Link kagle:\n",
        "https://www.kaggle.com/datasets/omkargowda/suicide-rates-overview-1985-to-2021\n",
        "\n",
        "Cerinta proiectului\n",
        "https://docs.google.com/document/d/1zaW0c6cR_a7Q0nhA_Cpsy49aknSKmY82VvZ-SF04AJ8/edit?tab=t.0"
      ],
      "metadata": {
        "id": "OE-FuemaGqsj"
      }
    },
    {
      "cell_type": "code",
      "source": [
        "from google.colab import drive\n",
        "drive.mount(\"/content/drive\", force_remount=True)"
      ],
      "metadata": {
        "id": "4555vM2DBO-5",
        "colab": {
          "base_uri": "https://localhost:8080/"
        },
        "outputId": "eb3fa625-c337-4f26-8b66-2373518f0a83"
      },
      "execution_count": null,
      "outputs": [
        {
          "output_type": "stream",
          "name": "stdout",
          "text": [
            "Mounted at /content/drive\n"
          ]
        }
      ]
    },
    {
      "cell_type": "code",
      "source": [
        "!mkdir -p ~/.kaggle\n",
        "!cp '/content/drive/My Drive/kaggle/kaggle.json' ~/.kaggle/kaggle.json\n",
        "!chmod 600 ~/.kaggle/kaggle.json"
      ],
      "metadata": {
        "id": "10GkzoXkBSy4"
      },
      "execution_count": null,
      "outputs": []
    },
    {
      "cell_type": "code",
      "source": [
        "import kaggle\n",
        "kaggle.api.dataset_download_files('omkargowda/suicide-rates-overview-1985-to-2021', path='./data', unzip=True)"
      ],
      "metadata": {
        "id": "p202KYLUBkFv",
        "colab": {
          "base_uri": "https://localhost:8080/"
        },
        "outputId": "b2cb3ed6-e393-4675-88d0-524eb39333af"
      },
      "execution_count": null,
      "outputs": [
        {
          "output_type": "stream",
          "name": "stdout",
          "text": [
            "Dataset URL: https://www.kaggle.com/datasets/omkargowda/suicide-rates-overview-1985-to-2021\n"
          ]
        }
      ]
    },
    {
      "cell_type": "markdown",
      "source": [
        "## TASK-URI PROIECT [cerinte proiect](https://docs.google.com/document/d/1zaW0c6cR_a7Q0nhA_Cpsy49aknSKmY82VvZ-SF04AJ8/edit?tab=t.0)"
      ],
      "metadata": {
        "id": "ykw_dA4UX1LO"
      }
    },
    {
      "cell_type": "markdown",
      "source": [
        "# Etapa 1: Procesarea și analiza datelor"
      ],
      "metadata": {
        "id": "pEE8fRniFzEW"
      }
    },
    {
      "cell_type": "markdown",
      "source": [
        "În această primă etapă, echipele vor lucra la curățarea și prelucrarea setului de date ales, incluzând pași precum identificarea valorilor lipsă, tratarea valorilor anormale, filtrarea, sortarea, gruparea și agregarea datelor. De asemenea, vor crea vizualizări de bază pentru a înțelege structura și relațiile dintre date.\n",
        "\n",
        "\n"
      ],
      "metadata": {
        "id": "otOQ0H0HGBKA"
      }
    },
    {
      "cell_type": "markdown",
      "source": [
        "## Verificarea calității datelor"
      ],
      "metadata": {
        "id": "0ajMakZ7hORJ"
      }
    },
    {
      "cell_type": "markdown",
      "source": [
        "Încărcarea și prezentarea setului de date\n",
        "* Importarea bibliotecilor necesare\n",
        "* Încărcarea datelor din master.csv & auxiliare\n",
        "* Afișarea primelor și ultimelor rânduri din dataset\n",
        "* Verificarea dimensiunilor (număr de rânduri și coloane) și afișarea tipurilor de date pentru fiecare coloană\n",
        "\n",
        "Analiza și prelucrarea coloanelor din tabel\n",
        "* Prelucrari utilizare fiecare coloana din tabela\n",
        "* Calculul numărului/procentajului de valori lipsă pentru fiecare coloană\n",
        "* Decizia de tratare a valorilor lipsă (eliminare, imputare, etc.)\n",
        "* Corectarea erorilor de formatare sau inconsistențelor\n",
        "\n",
        "Identificarea și tratarea valorilor aberante (outliers)\n",
        "* Detectarea outlierilor prin metode statistice (Z-score, IQR)\n",
        "* Vizualizarea distribuției datelor pentru identificarea valorilor extreme\n",
        "* Decizia privind tratarea outlierilor și implementarea strategiei\n",
        "\n"
      ],
      "metadata": {
        "id": "AdiPfJz3klar"
      }
    },
    {
      "cell_type": "markdown",
      "source": [
        "1. Încărcarea și prezentarea setului de date\n",
        "\n",
        "---\n",
        "\n"
      ],
      "metadata": {
        "id": "bIAexzunhWgP"
      }
    },
    {
      "cell_type": "markdown",
      "source": [
        "* Importarea bibliotecilor necesare"
      ],
      "metadata": {
        "id": "5UKnO_NZhgSQ"
      }
    },
    {
      "cell_type": "code",
      "source": [
        "import pandas as pd\n",
        "import matplotlib.pyplot as plt\n",
        "import seaborn as sns\n",
        "import numpy as np\n",
        "import os\n",
        "from scipy.stats import zscore"
      ],
      "metadata": {
        "id": "MwfmqHCRhxwA"
      },
      "execution_count": null,
      "outputs": []
    },
    {
      "cell_type": "markdown",
      "source": [
        "* Încărcarea datelor din master.csv"
      ],
      "metadata": {
        "id": "WeWJT5wXh2j4"
      }
    },
    {
      "cell_type": "code",
      "source": [
        "df = pd.read_csv('./data/master.csv', sep=',')\n",
        "df.head()"
      ],
      "metadata": {
        "id": "cVIyhlTXYZco",
        "colab": {
          "base_uri": "https://localhost:8080/",
          "height": 206
        },
        "outputId": "4ca1b1bb-8b02-4671-cf82-96a8f7a40a26"
      },
      "execution_count": null,
      "outputs": [
        {
          "output_type": "execute_result",
          "data": {
            "text/plain": [
              "   country  year     sex          age  suicides_no  population  \\\n",
              "0  Albania  1987    male  15-24 years         21.0      312900   \n",
              "1  Albania  1987    male  35-54 years         16.0      308000   \n",
              "2  Albania  1987  female  15-24 years         14.0      289700   \n",
              "3  Albania  1987    male    75+ years          1.0       21800   \n",
              "4  Albania  1987    male  25-34 years          9.0      274300   \n",
              "\n",
              "   suicides/100k pop country-year  HDI for year  gdp_for_year ($)   \\\n",
              "0               6.71  Albania1987           NaN     2,15,66,24,900   \n",
              "1               5.19  Albania1987           NaN     2,15,66,24,900   \n",
              "2               4.83  Albania1987           NaN     2,15,66,24,900   \n",
              "3               4.59  Albania1987           NaN     2,15,66,24,900   \n",
              "4               3.28  Albania1987           NaN     2,15,66,24,900   \n",
              "\n",
              "   gdp_per_capita ($)       generation  \n",
              "0               796.0     Generation X  \n",
              "1               796.0           Silent  \n",
              "2               796.0     Generation X  \n",
              "3               796.0  G.I. Generation  \n",
              "4               796.0          Boomers  "
            ],
            "text/html": [
              "\n",
              "  <div id=\"df-f893944d-c95f-4fd0-bd29-7608d98819de\" class=\"colab-df-container\">\n",
              "    <div>\n",
              "<style scoped>\n",
              "    .dataframe tbody tr th:only-of-type {\n",
              "        vertical-align: middle;\n",
              "    }\n",
              "\n",
              "    .dataframe tbody tr th {\n",
              "        vertical-align: top;\n",
              "    }\n",
              "\n",
              "    .dataframe thead th {\n",
              "        text-align: right;\n",
              "    }\n",
              "</style>\n",
              "<table border=\"1\" class=\"dataframe\">\n",
              "  <thead>\n",
              "    <tr style=\"text-align: right;\">\n",
              "      <th></th>\n",
              "      <th>country</th>\n",
              "      <th>year</th>\n",
              "      <th>sex</th>\n",
              "      <th>age</th>\n",
              "      <th>suicides_no</th>\n",
              "      <th>population</th>\n",
              "      <th>suicides/100k pop</th>\n",
              "      <th>country-year</th>\n",
              "      <th>HDI for year</th>\n",
              "      <th>gdp_for_year ($)</th>\n",
              "      <th>gdp_per_capita ($)</th>\n",
              "      <th>generation</th>\n",
              "    </tr>\n",
              "  </thead>\n",
              "  <tbody>\n",
              "    <tr>\n",
              "      <th>0</th>\n",
              "      <td>Albania</td>\n",
              "      <td>1987</td>\n",
              "      <td>male</td>\n",
              "      <td>15-24 years</td>\n",
              "      <td>21.0</td>\n",
              "      <td>312900</td>\n",
              "      <td>6.71</td>\n",
              "      <td>Albania1987</td>\n",
              "      <td>NaN</td>\n",
              "      <td>2,15,66,24,900</td>\n",
              "      <td>796.0</td>\n",
              "      <td>Generation X</td>\n",
              "    </tr>\n",
              "    <tr>\n",
              "      <th>1</th>\n",
              "      <td>Albania</td>\n",
              "      <td>1987</td>\n",
              "      <td>male</td>\n",
              "      <td>35-54 years</td>\n",
              "      <td>16.0</td>\n",
              "      <td>308000</td>\n",
              "      <td>5.19</td>\n",
              "      <td>Albania1987</td>\n",
              "      <td>NaN</td>\n",
              "      <td>2,15,66,24,900</td>\n",
              "      <td>796.0</td>\n",
              "      <td>Silent</td>\n",
              "    </tr>\n",
              "    <tr>\n",
              "      <th>2</th>\n",
              "      <td>Albania</td>\n",
              "      <td>1987</td>\n",
              "      <td>female</td>\n",
              "      <td>15-24 years</td>\n",
              "      <td>14.0</td>\n",
              "      <td>289700</td>\n",
              "      <td>4.83</td>\n",
              "      <td>Albania1987</td>\n",
              "      <td>NaN</td>\n",
              "      <td>2,15,66,24,900</td>\n",
              "      <td>796.0</td>\n",
              "      <td>Generation X</td>\n",
              "    </tr>\n",
              "    <tr>\n",
              "      <th>3</th>\n",
              "      <td>Albania</td>\n",
              "      <td>1987</td>\n",
              "      <td>male</td>\n",
              "      <td>75+ years</td>\n",
              "      <td>1.0</td>\n",
              "      <td>21800</td>\n",
              "      <td>4.59</td>\n",
              "      <td>Albania1987</td>\n",
              "      <td>NaN</td>\n",
              "      <td>2,15,66,24,900</td>\n",
              "      <td>796.0</td>\n",
              "      <td>G.I. Generation</td>\n",
              "    </tr>\n",
              "    <tr>\n",
              "      <th>4</th>\n",
              "      <td>Albania</td>\n",
              "      <td>1987</td>\n",
              "      <td>male</td>\n",
              "      <td>25-34 years</td>\n",
              "      <td>9.0</td>\n",
              "      <td>274300</td>\n",
              "      <td>3.28</td>\n",
              "      <td>Albania1987</td>\n",
              "      <td>NaN</td>\n",
              "      <td>2,15,66,24,900</td>\n",
              "      <td>796.0</td>\n",
              "      <td>Boomers</td>\n",
              "    </tr>\n",
              "  </tbody>\n",
              "</table>\n",
              "</div>\n",
              "    <div class=\"colab-df-buttons\">\n",
              "\n",
              "  <div class=\"colab-df-container\">\n",
              "    <button class=\"colab-df-convert\" onclick=\"convertToInteractive('df-f893944d-c95f-4fd0-bd29-7608d98819de')\"\n",
              "            title=\"Convert this dataframe to an interactive table.\"\n",
              "            style=\"display:none;\">\n",
              "\n",
              "  <svg xmlns=\"http://www.w3.org/2000/svg\" height=\"24px\" viewBox=\"0 -960 960 960\">\n",
              "    <path d=\"M120-120v-720h720v720H120Zm60-500h600v-160H180v160Zm220 220h160v-160H400v160Zm0 220h160v-160H400v160ZM180-400h160v-160H180v160Zm440 0h160v-160H620v160ZM180-180h160v-160H180v160Zm440 0h160v-160H620v160Z\"/>\n",
              "  </svg>\n",
              "    </button>\n",
              "\n",
              "  <style>\n",
              "    .colab-df-container {\n",
              "      display:flex;\n",
              "      gap: 12px;\n",
              "    }\n",
              "\n",
              "    .colab-df-convert {\n",
              "      background-color: #E8F0FE;\n",
              "      border: none;\n",
              "      border-radius: 50%;\n",
              "      cursor: pointer;\n",
              "      display: none;\n",
              "      fill: #1967D2;\n",
              "      height: 32px;\n",
              "      padding: 0 0 0 0;\n",
              "      width: 32px;\n",
              "    }\n",
              "\n",
              "    .colab-df-convert:hover {\n",
              "      background-color: #E2EBFA;\n",
              "      box-shadow: 0px 1px 2px rgba(60, 64, 67, 0.3), 0px 1px 3px 1px rgba(60, 64, 67, 0.15);\n",
              "      fill: #174EA6;\n",
              "    }\n",
              "\n",
              "    .colab-df-buttons div {\n",
              "      margin-bottom: 4px;\n",
              "    }\n",
              "\n",
              "    [theme=dark] .colab-df-convert {\n",
              "      background-color: #3B4455;\n",
              "      fill: #D2E3FC;\n",
              "    }\n",
              "\n",
              "    [theme=dark] .colab-df-convert:hover {\n",
              "      background-color: #434B5C;\n",
              "      box-shadow: 0px 1px 3px 1px rgba(0, 0, 0, 0.15);\n",
              "      filter: drop-shadow(0px 1px 2px rgba(0, 0, 0, 0.3));\n",
              "      fill: #FFFFFF;\n",
              "    }\n",
              "  </style>\n",
              "\n",
              "    <script>\n",
              "      const buttonEl =\n",
              "        document.querySelector('#df-f893944d-c95f-4fd0-bd29-7608d98819de button.colab-df-convert');\n",
              "      buttonEl.style.display =\n",
              "        google.colab.kernel.accessAllowed ? 'block' : 'none';\n",
              "\n",
              "      async function convertToInteractive(key) {\n",
              "        const element = document.querySelector('#df-f893944d-c95f-4fd0-bd29-7608d98819de');\n",
              "        const dataTable =\n",
              "          await google.colab.kernel.invokeFunction('convertToInteractive',\n",
              "                                                    [key], {});\n",
              "        if (!dataTable) return;\n",
              "\n",
              "        const docLinkHtml = 'Like what you see? Visit the ' +\n",
              "          '<a target=\"_blank\" href=https://colab.research.google.com/notebooks/data_table.ipynb>data table notebook</a>'\n",
              "          + ' to learn more about interactive tables.';\n",
              "        element.innerHTML = '';\n",
              "        dataTable['output_type'] = 'display_data';\n",
              "        await google.colab.output.renderOutput(dataTable, element);\n",
              "        const docLink = document.createElement('div');\n",
              "        docLink.innerHTML = docLinkHtml;\n",
              "        element.appendChild(docLink);\n",
              "      }\n",
              "    </script>\n",
              "  </div>\n",
              "\n",
              "\n",
              "<div id=\"df-713675b6-0582-41e7-838f-a9deeaf8641c\">\n",
              "  <button class=\"colab-df-quickchart\" onclick=\"quickchart('df-713675b6-0582-41e7-838f-a9deeaf8641c')\"\n",
              "            title=\"Suggest charts\"\n",
              "            style=\"display:none;\">\n",
              "\n",
              "<svg xmlns=\"http://www.w3.org/2000/svg\" height=\"24px\"viewBox=\"0 0 24 24\"\n",
              "     width=\"24px\">\n",
              "    <g>\n",
              "        <path d=\"M19 3H5c-1.1 0-2 .9-2 2v14c0 1.1.9 2 2 2h14c1.1 0 2-.9 2-2V5c0-1.1-.9-2-2-2zM9 17H7v-7h2v7zm4 0h-2V7h2v10zm4 0h-2v-4h2v4z\"/>\n",
              "    </g>\n",
              "</svg>\n",
              "  </button>\n",
              "\n",
              "<style>\n",
              "  .colab-df-quickchart {\n",
              "      --bg-color: #E8F0FE;\n",
              "      --fill-color: #1967D2;\n",
              "      --hover-bg-color: #E2EBFA;\n",
              "      --hover-fill-color: #174EA6;\n",
              "      --disabled-fill-color: #AAA;\n",
              "      --disabled-bg-color: #DDD;\n",
              "  }\n",
              "\n",
              "  [theme=dark] .colab-df-quickchart {\n",
              "      --bg-color: #3B4455;\n",
              "      --fill-color: #D2E3FC;\n",
              "      --hover-bg-color: #434B5C;\n",
              "      --hover-fill-color: #FFFFFF;\n",
              "      --disabled-bg-color: #3B4455;\n",
              "      --disabled-fill-color: #666;\n",
              "  }\n",
              "\n",
              "  .colab-df-quickchart {\n",
              "    background-color: var(--bg-color);\n",
              "    border: none;\n",
              "    border-radius: 50%;\n",
              "    cursor: pointer;\n",
              "    display: none;\n",
              "    fill: var(--fill-color);\n",
              "    height: 32px;\n",
              "    padding: 0;\n",
              "    width: 32px;\n",
              "  }\n",
              "\n",
              "  .colab-df-quickchart:hover {\n",
              "    background-color: var(--hover-bg-color);\n",
              "    box-shadow: 0 1px 2px rgba(60, 64, 67, 0.3), 0 1px 3px 1px rgba(60, 64, 67, 0.15);\n",
              "    fill: var(--button-hover-fill-color);\n",
              "  }\n",
              "\n",
              "  .colab-df-quickchart-complete:disabled,\n",
              "  .colab-df-quickchart-complete:disabled:hover {\n",
              "    background-color: var(--disabled-bg-color);\n",
              "    fill: var(--disabled-fill-color);\n",
              "    box-shadow: none;\n",
              "  }\n",
              "\n",
              "  .colab-df-spinner {\n",
              "    border: 2px solid var(--fill-color);\n",
              "    border-color: transparent;\n",
              "    border-bottom-color: var(--fill-color);\n",
              "    animation:\n",
              "      spin 1s steps(1) infinite;\n",
              "  }\n",
              "\n",
              "  @keyframes spin {\n",
              "    0% {\n",
              "      border-color: transparent;\n",
              "      border-bottom-color: var(--fill-color);\n",
              "      border-left-color: var(--fill-color);\n",
              "    }\n",
              "    20% {\n",
              "      border-color: transparent;\n",
              "      border-left-color: var(--fill-color);\n",
              "      border-top-color: var(--fill-color);\n",
              "    }\n",
              "    30% {\n",
              "      border-color: transparent;\n",
              "      border-left-color: var(--fill-color);\n",
              "      border-top-color: var(--fill-color);\n",
              "      border-right-color: var(--fill-color);\n",
              "    }\n",
              "    40% {\n",
              "      border-color: transparent;\n",
              "      border-right-color: var(--fill-color);\n",
              "      border-top-color: var(--fill-color);\n",
              "    }\n",
              "    60% {\n",
              "      border-color: transparent;\n",
              "      border-right-color: var(--fill-color);\n",
              "    }\n",
              "    80% {\n",
              "      border-color: transparent;\n",
              "      border-right-color: var(--fill-color);\n",
              "      border-bottom-color: var(--fill-color);\n",
              "    }\n",
              "    90% {\n",
              "      border-color: transparent;\n",
              "      border-bottom-color: var(--fill-color);\n",
              "    }\n",
              "  }\n",
              "</style>\n",
              "\n",
              "  <script>\n",
              "    async function quickchart(key) {\n",
              "      const quickchartButtonEl =\n",
              "        document.querySelector('#' + key + ' button');\n",
              "      quickchartButtonEl.disabled = true;  // To prevent multiple clicks.\n",
              "      quickchartButtonEl.classList.add('colab-df-spinner');\n",
              "      try {\n",
              "        const charts = await google.colab.kernel.invokeFunction(\n",
              "            'suggestCharts', [key], {});\n",
              "      } catch (error) {\n",
              "        console.error('Error during call to suggestCharts:', error);\n",
              "      }\n",
              "      quickchartButtonEl.classList.remove('colab-df-spinner');\n",
              "      quickchartButtonEl.classList.add('colab-df-quickchart-complete');\n",
              "    }\n",
              "    (() => {\n",
              "      let quickchartButtonEl =\n",
              "        document.querySelector('#df-713675b6-0582-41e7-838f-a9deeaf8641c button');\n",
              "      quickchartButtonEl.style.display =\n",
              "        google.colab.kernel.accessAllowed ? 'block' : 'none';\n",
              "    })();\n",
              "  </script>\n",
              "</div>\n",
              "\n",
              "    </div>\n",
              "  </div>\n"
            ],
            "application/vnd.google.colaboratory.intrinsic+json": {
              "type": "dataframe",
              "variable_name": "df",
              "summary": "{\n  \"name\": \"df\",\n  \"rows\": 31756,\n  \"fields\": [\n    {\n      \"column\": \"country\",\n      \"properties\": {\n        \"dtype\": \"category\",\n        \"num_unique_values\": 114,\n        \"samples\": [\n          \"Serbia\",\n          \"Aruba\",\n          \"Hungary\"\n        ],\n        \"semantic_type\": \"\",\n        \"description\": \"\"\n      }\n    },\n    {\n      \"column\": \"year\",\n      \"properties\": {\n        \"dtype\": \"number\",\n        \"std\": 9,\n        \"min\": 1985,\n        \"max\": 2020,\n        \"num_unique_values\": 36,\n        \"samples\": [\n          2017,\n          2002,\n          2012\n        ],\n        \"semantic_type\": \"\",\n        \"description\": \"\"\n      }\n    },\n    {\n      \"column\": \"sex\",\n      \"properties\": {\n        \"dtype\": \"category\",\n        \"num_unique_values\": 2,\n        \"samples\": [\n          \"female\",\n          \"male\"\n        ],\n        \"semantic_type\": \"\",\n        \"description\": \"\"\n      }\n    },\n    {\n      \"column\": \"age\",\n      \"properties\": {\n        \"dtype\": \"category\",\n        \"num_unique_values\": 6,\n        \"samples\": [\n          \"15-24 years\",\n          \"35-54 years\"\n        ],\n        \"semantic_type\": \"\",\n        \"description\": \"\"\n      }\n    },\n    {\n      \"column\": \"suicides_no\",\n      \"properties\": {\n        \"dtype\": \"number\",\n        \"std\": 867.9561072342982,\n        \"min\": 0.0,\n        \"max\": 22338.0,\n        \"num_unique_values\": 2097,\n        \"samples\": [\n          19.0,\n          3310.0\n        ],\n        \"semantic_type\": \"\",\n        \"description\": \"\"\n      }\n    },\n    {\n      \"column\": \"population\",\n      \"properties\": {\n        \"dtype\": \"number\",\n        \"std\": 57993230,\n        \"min\": 278,\n        \"max\": 1411100000,\n        \"num_unique_values\": 25891,\n        \"samples\": [\n          136335,\n          6770\n        ],\n        \"semantic_type\": \"\",\n        \"description\": \"\"\n      }\n    },\n    {\n      \"column\": \"suicides/100k pop\",\n      \"properties\": {\n        \"dtype\": \"number\",\n        \"std\": 21.590926176303302,\n        \"min\": 0.0,\n        \"max\": 515.0927339,\n        \"num_unique_values\": 7466,\n        \"samples\": [\n          13.27,\n          46.73\n        ],\n        \"semantic_type\": \"\",\n        \"description\": \"\"\n      }\n    },\n    {\n      \"column\": \"country-year\",\n      \"properties\": {\n        \"dtype\": \"category\",\n        \"num_unique_values\": 2649,\n        \"samples\": [\n          \"Republic of Korea1988\",\n          \"Kazakhstan1993\"\n        ],\n        \"semantic_type\": \"\",\n        \"description\": \"\"\n      }\n    },\n    {\n      \"column\": \"HDI for year\",\n      \"properties\": {\n        \"dtype\": \"number\",\n        \"std\": 0.09747992850706791,\n        \"min\": 0.377790254,\n        \"max\": 0.975114354,\n        \"num_unique_values\": 921,\n        \"samples\": [\n          0.858592314,\n          0.85473546\n        ],\n        \"semantic_type\": \"\",\n        \"description\": \"\"\n      }\n    },\n    {\n      \"column\": \" gdp_for_year ($) \",\n      \"properties\": {\n        \"dtype\": \"category\",\n        \"num_unique_values\": 2631,\n        \"samples\": [\n          \"3,39,20,21,011\",\n          \"22,78,50,000\"\n        ],\n        \"semantic_type\": \"\",\n        \"description\": \"\"\n      }\n    },\n    {\n      \"column\": \"gdp_per_capita ($)\",\n      \"properties\": {\n        \"dtype\": \"number\",\n        \"std\": 19464.861139566936,\n        \"min\": 251.0,\n        \"max\": 126352.0,\n        \"num_unique_values\": 2561,\n        \"samples\": [\n          20588.0,\n          5599.0\n        ],\n        \"semantic_type\": \"\",\n        \"description\": \"\"\n      }\n    },\n    {\n      \"column\": \"generation\",\n      \"properties\": {\n        \"dtype\": \"category\",\n        \"num_unique_values\": 6,\n        \"samples\": [\n          \"Generation X\",\n          \"Silent\"\n        ],\n        \"semantic_type\": \"\",\n        \"description\": \"\"\n      }\n    }\n  ]\n}"
            }
          },
          "metadata": {},
          "execution_count": 5
        }
      ]
    },
    {
      "cell_type": "code",
      "source": [
        "df.info()"
      ],
      "metadata": {
        "colab": {
          "base_uri": "https://localhost:8080/"
        },
        "id": "6oODM5okcv8D",
        "outputId": "fd549fa9-1df1-4adb-efe0-9c8546a82f60"
      },
      "execution_count": null,
      "outputs": [
        {
          "output_type": "stream",
          "name": "stdout",
          "text": [
            "<class 'pandas.core.frame.DataFrame'>\n",
            "RangeIndex: 31756 entries, 0 to 31755\n",
            "Data columns (total 12 columns):\n",
            " #   Column              Non-Null Count  Dtype  \n",
            "---  ------              --------------  -----  \n",
            " 0   country             31756 non-null  object \n",
            " 1   year                31756 non-null  int64  \n",
            " 2   sex                 31756 non-null  object \n",
            " 3   age                 31756 non-null  object \n",
            " 4   suicides_no         30556 non-null  float64\n",
            " 5   population          31756 non-null  int64  \n",
            " 6   suicides/100k pop   31756 non-null  float64\n",
            " 7   country-year        31756 non-null  object \n",
            " 8   HDI for year        12300 non-null  float64\n",
            " 9    gdp_for_year ($)   31756 non-null  object \n",
            " 10  gdp_per_capita ($)  31756 non-null  float64\n",
            " 11  generation          31756 non-null  object \n",
            "dtypes: float64(4), int64(2), object(6)\n",
            "memory usage: 2.9+ MB\n"
          ]
        }
      ]
    },
    {
      "cell_type": "code",
      "source": [
        "# Comunism vs democratie\n",
        "df_communist = pd.read_csv('data/communist_vs_democracy_counterparts.csv')\n",
        "df_communist.head()"
      ],
      "metadata": {
        "colab": {
          "base_uri": "https://localhost:8080/",
          "height": 321
        },
        "id": "QxwTutjKa6hk",
        "outputId": "93161325-ef01-4b05-a21b-982348f9688c"
      },
      "execution_count": null,
      "outputs": [
        {
          "output_type": "error",
          "ename": "FileNotFoundError",
          "evalue": "[Errno 2] No such file or directory: 'data/communist_vs_democracy_counterparts.csv'",
          "traceback": [
            "\u001b[0;31m---------------------------------------------------------------------------\u001b[0m",
            "\u001b[0;31mFileNotFoundError\u001b[0m                         Traceback (most recent call last)",
            "\u001b[0;32m<ipython-input-7-3307c2ff238f>\u001b[0m in \u001b[0;36m<cell line: 0>\u001b[0;34m()\u001b[0m\n\u001b[1;32m      1\u001b[0m \u001b[0;31m# Comunism vs democratie\u001b[0m\u001b[0;34m\u001b[0m\u001b[0;34m\u001b[0m\u001b[0m\n\u001b[0;32m----> 2\u001b[0;31m \u001b[0mdf_communist\u001b[0m \u001b[0;34m=\u001b[0m \u001b[0mpd\u001b[0m\u001b[0;34m.\u001b[0m\u001b[0mread_csv\u001b[0m\u001b[0;34m(\u001b[0m\u001b[0;34m'data/communist_vs_democracy_counterparts.csv'\u001b[0m\u001b[0;34m)\u001b[0m\u001b[0;34m\u001b[0m\u001b[0;34m\u001b[0m\u001b[0m\n\u001b[0m\u001b[1;32m      3\u001b[0m \u001b[0mdf_communist\u001b[0m\u001b[0;34m.\u001b[0m\u001b[0mhead\u001b[0m\u001b[0;34m(\u001b[0m\u001b[0;34m)\u001b[0m\u001b[0;34m\u001b[0m\u001b[0;34m\u001b[0m\u001b[0m\n",
            "\u001b[0;32m/usr/local/lib/python3.11/dist-packages/pandas/io/parsers/readers.py\u001b[0m in \u001b[0;36mread_csv\u001b[0;34m(filepath_or_buffer, sep, delimiter, header, names, index_col, usecols, dtype, engine, converters, true_values, false_values, skipinitialspace, skiprows, skipfooter, nrows, na_values, keep_default_na, na_filter, verbose, skip_blank_lines, parse_dates, infer_datetime_format, keep_date_col, date_parser, date_format, dayfirst, cache_dates, iterator, chunksize, compression, thousands, decimal, lineterminator, quotechar, quoting, doublequote, escapechar, comment, encoding, encoding_errors, dialect, on_bad_lines, delim_whitespace, low_memory, memory_map, float_precision, storage_options, dtype_backend)\u001b[0m\n\u001b[1;32m   1024\u001b[0m     \u001b[0mkwds\u001b[0m\u001b[0;34m.\u001b[0m\u001b[0mupdate\u001b[0m\u001b[0;34m(\u001b[0m\u001b[0mkwds_defaults\u001b[0m\u001b[0;34m)\u001b[0m\u001b[0;34m\u001b[0m\u001b[0;34m\u001b[0m\u001b[0m\n\u001b[1;32m   1025\u001b[0m \u001b[0;34m\u001b[0m\u001b[0m\n\u001b[0;32m-> 1026\u001b[0;31m     \u001b[0;32mreturn\u001b[0m \u001b[0m_read\u001b[0m\u001b[0;34m(\u001b[0m\u001b[0mfilepath_or_buffer\u001b[0m\u001b[0;34m,\u001b[0m \u001b[0mkwds\u001b[0m\u001b[0;34m)\u001b[0m\u001b[0;34m\u001b[0m\u001b[0;34m\u001b[0m\u001b[0m\n\u001b[0m\u001b[1;32m   1027\u001b[0m \u001b[0;34m\u001b[0m\u001b[0m\n\u001b[1;32m   1028\u001b[0m \u001b[0;34m\u001b[0m\u001b[0m\n",
            "\u001b[0;32m/usr/local/lib/python3.11/dist-packages/pandas/io/parsers/readers.py\u001b[0m in \u001b[0;36m_read\u001b[0;34m(filepath_or_buffer, kwds)\u001b[0m\n\u001b[1;32m    618\u001b[0m \u001b[0;34m\u001b[0m\u001b[0m\n\u001b[1;32m    619\u001b[0m     \u001b[0;31m# Create the parser.\u001b[0m\u001b[0;34m\u001b[0m\u001b[0;34m\u001b[0m\u001b[0m\n\u001b[0;32m--> 620\u001b[0;31m     \u001b[0mparser\u001b[0m \u001b[0;34m=\u001b[0m \u001b[0mTextFileReader\u001b[0m\u001b[0;34m(\u001b[0m\u001b[0mfilepath_or_buffer\u001b[0m\u001b[0;34m,\u001b[0m \u001b[0;34m**\u001b[0m\u001b[0mkwds\u001b[0m\u001b[0;34m)\u001b[0m\u001b[0;34m\u001b[0m\u001b[0;34m\u001b[0m\u001b[0m\n\u001b[0m\u001b[1;32m    621\u001b[0m \u001b[0;34m\u001b[0m\u001b[0m\n\u001b[1;32m    622\u001b[0m     \u001b[0;32mif\u001b[0m \u001b[0mchunksize\u001b[0m \u001b[0;32mor\u001b[0m \u001b[0miterator\u001b[0m\u001b[0;34m:\u001b[0m\u001b[0;34m\u001b[0m\u001b[0;34m\u001b[0m\u001b[0m\n",
            "\u001b[0;32m/usr/local/lib/python3.11/dist-packages/pandas/io/parsers/readers.py\u001b[0m in \u001b[0;36m__init__\u001b[0;34m(self, f, engine, **kwds)\u001b[0m\n\u001b[1;32m   1618\u001b[0m \u001b[0;34m\u001b[0m\u001b[0m\n\u001b[1;32m   1619\u001b[0m         \u001b[0mself\u001b[0m\u001b[0;34m.\u001b[0m\u001b[0mhandles\u001b[0m\u001b[0;34m:\u001b[0m \u001b[0mIOHandles\u001b[0m \u001b[0;34m|\u001b[0m \u001b[0;32mNone\u001b[0m \u001b[0;34m=\u001b[0m \u001b[0;32mNone\u001b[0m\u001b[0;34m\u001b[0m\u001b[0;34m\u001b[0m\u001b[0m\n\u001b[0;32m-> 1620\u001b[0;31m         \u001b[0mself\u001b[0m\u001b[0;34m.\u001b[0m\u001b[0m_engine\u001b[0m \u001b[0;34m=\u001b[0m \u001b[0mself\u001b[0m\u001b[0;34m.\u001b[0m\u001b[0m_make_engine\u001b[0m\u001b[0;34m(\u001b[0m\u001b[0mf\u001b[0m\u001b[0;34m,\u001b[0m \u001b[0mself\u001b[0m\u001b[0;34m.\u001b[0m\u001b[0mengine\u001b[0m\u001b[0;34m)\u001b[0m\u001b[0;34m\u001b[0m\u001b[0;34m\u001b[0m\u001b[0m\n\u001b[0m\u001b[1;32m   1621\u001b[0m \u001b[0;34m\u001b[0m\u001b[0m\n\u001b[1;32m   1622\u001b[0m     \u001b[0;32mdef\u001b[0m \u001b[0mclose\u001b[0m\u001b[0;34m(\u001b[0m\u001b[0mself\u001b[0m\u001b[0;34m)\u001b[0m \u001b[0;34m->\u001b[0m \u001b[0;32mNone\u001b[0m\u001b[0;34m:\u001b[0m\u001b[0;34m\u001b[0m\u001b[0;34m\u001b[0m\u001b[0m\n",
            "\u001b[0;32m/usr/local/lib/python3.11/dist-packages/pandas/io/parsers/readers.py\u001b[0m in \u001b[0;36m_make_engine\u001b[0;34m(self, f, engine)\u001b[0m\n\u001b[1;32m   1878\u001b[0m                 \u001b[0;32mif\u001b[0m \u001b[0;34m\"b\"\u001b[0m \u001b[0;32mnot\u001b[0m \u001b[0;32min\u001b[0m \u001b[0mmode\u001b[0m\u001b[0;34m:\u001b[0m\u001b[0;34m\u001b[0m\u001b[0;34m\u001b[0m\u001b[0m\n\u001b[1;32m   1879\u001b[0m                     \u001b[0mmode\u001b[0m \u001b[0;34m+=\u001b[0m \u001b[0;34m\"b\"\u001b[0m\u001b[0;34m\u001b[0m\u001b[0;34m\u001b[0m\u001b[0m\n\u001b[0;32m-> 1880\u001b[0;31m             self.handles = get_handle(\n\u001b[0m\u001b[1;32m   1881\u001b[0m                 \u001b[0mf\u001b[0m\u001b[0;34m,\u001b[0m\u001b[0;34m\u001b[0m\u001b[0;34m\u001b[0m\u001b[0m\n\u001b[1;32m   1882\u001b[0m                 \u001b[0mmode\u001b[0m\u001b[0;34m,\u001b[0m\u001b[0;34m\u001b[0m\u001b[0;34m\u001b[0m\u001b[0m\n",
            "\u001b[0;32m/usr/local/lib/python3.11/dist-packages/pandas/io/common.py\u001b[0m in \u001b[0;36mget_handle\u001b[0;34m(path_or_buf, mode, encoding, compression, memory_map, is_text, errors, storage_options)\u001b[0m\n\u001b[1;32m    871\u001b[0m         \u001b[0;32mif\u001b[0m \u001b[0mioargs\u001b[0m\u001b[0;34m.\u001b[0m\u001b[0mencoding\u001b[0m \u001b[0;32mand\u001b[0m \u001b[0;34m\"b\"\u001b[0m \u001b[0;32mnot\u001b[0m \u001b[0;32min\u001b[0m \u001b[0mioargs\u001b[0m\u001b[0;34m.\u001b[0m\u001b[0mmode\u001b[0m\u001b[0;34m:\u001b[0m\u001b[0;34m\u001b[0m\u001b[0;34m\u001b[0m\u001b[0m\n\u001b[1;32m    872\u001b[0m             \u001b[0;31m# Encoding\u001b[0m\u001b[0;34m\u001b[0m\u001b[0;34m\u001b[0m\u001b[0m\n\u001b[0;32m--> 873\u001b[0;31m             handle = open(\n\u001b[0m\u001b[1;32m    874\u001b[0m                 \u001b[0mhandle\u001b[0m\u001b[0;34m,\u001b[0m\u001b[0;34m\u001b[0m\u001b[0;34m\u001b[0m\u001b[0m\n\u001b[1;32m    875\u001b[0m                 \u001b[0mioargs\u001b[0m\u001b[0;34m.\u001b[0m\u001b[0mmode\u001b[0m\u001b[0;34m,\u001b[0m\u001b[0;34m\u001b[0m\u001b[0;34m\u001b[0m\u001b[0m\n",
            "\u001b[0;31mFileNotFoundError\u001b[0m: [Errno 2] No such file or directory: 'data/communist_vs_democracy_counterparts.csv'"
          ]
        }
      ]
    },
    {
      "cell_type": "code",
      "source": [
        "df_communist.info()\n",
        "# OBS: Exista 5 tari care au ca forma de guvernare comunismul (modul de tratare al datelor fiind \"inexact\")"
      ],
      "metadata": {
        "id": "mBFE3mTTdONQ"
      },
      "execution_count": null,
      "outputs": []
    },
    {
      "cell_type": "code",
      "source": [
        "# Crize economice\n",
        "df_economic = pd.read_csv('data/economic_crises_1985_2021.csv')\n",
        "df_economic.head()"
      ],
      "metadata": {
        "id": "-VOODJbWbhGT"
      },
      "execution_count": null,
      "outputs": []
    },
    {
      "cell_type": "code",
      "source": [
        "df_economic.info()"
      ],
      "metadata": {
        "id": "EkHl3rRRdUGk"
      },
      "execution_count": null,
      "outputs": []
    },
    {
      "cell_type": "code",
      "source": [
        "# Conflicte\n",
        "df_conflicts = pd.read_csv('data/conflicts_1985_2021.csv')\n",
        "df_conflicts.head()"
      ],
      "metadata": {
        "id": "2xuiFbeWbnnx"
      },
      "execution_count": null,
      "outputs": []
    },
    {
      "cell_type": "code",
      "source": [
        "df_conflicts.info()"
      ],
      "metadata": {
        "id": "977snwradWO8"
      },
      "execution_count": null,
      "outputs": []
    },
    {
      "cell_type": "code",
      "source": [
        "# Dezastre/Catastrofe\n",
        "df_disasters = pd.read_csv('data/major_disasters_1985_2021.csv')\n",
        "df_disasters.head()"
      ],
      "metadata": {
        "id": "BQbPylENbtYS"
      },
      "execution_count": null,
      "outputs": []
    },
    {
      "cell_type": "code",
      "source": [
        "df_disasters.info()"
      ],
      "metadata": {
        "id": "-4ErQMzJdYik"
      },
      "execution_count": null,
      "outputs": []
    },
    {
      "cell_type": "code",
      "source": [
        "# Corelatie tari - continente\n",
        "# info : https://github.com/dbouquin/IS_608/blob/master/NanosatDB_munging/Countries-Continents.csv\n",
        "df_continents = pd.read_csv('data/countries-continents.csv')\n",
        "df_continents.columns = ['country', 'continent']\n",
        "df_continents.head()"
      ],
      "metadata": {
        "id": "U93Bh9muye9A"
      },
      "execution_count": null,
      "outputs": []
    },
    {
      "cell_type": "code",
      "source": [
        "df_continents.info()"
      ],
      "metadata": {
        "id": "lZ_Ir-KZytr1"
      },
      "execution_count": null,
      "outputs": []
    },
    {
      "cell_type": "markdown",
      "source": [
        "Analiza și prelucrarea coloanelor din tabel"
      ],
      "metadata": {
        "id": "9mgtvXAve22E"
      }
    },
    {
      "cell_type": "code",
      "source": [
        "df.columns.tolist()"
      ],
      "metadata": {
        "id": "Y00Ndf8NhBkC"
      },
      "execution_count": null,
      "outputs": []
    },
    {
      "cell_type": "code",
      "source": [
        "df[' gdp_for_year ($) '] = df[' gdp_for_year ($) '].str.replace(',', '')\n",
        "df[' gdp_for_year ($) '] = pd.to_numeric(df[' gdp_for_year ($) '], errors='coerce')\n",
        "\n",
        "print(df[' gdp_for_year ($) '].dtype)\n",
        "df['suicides_no'] = df['suicides_no'].fillna(0)\n",
        "df.head()"
      ],
      "metadata": {
        "id": "opeQvJF5gbcj"
      },
      "execution_count": null,
      "outputs": []
    },
    {
      "cell_type": "code",
      "source": [
        "# Observam ca in csv-ul despre conflicte, nu este o repartizare eficienta\n",
        "# Impartim perioadele pentru o relatie de 1 to 1\n",
        "\n",
        "def split_periods(row):\n",
        "    country = row['Country']\n",
        "    description = row['Conflict Description']\n",
        "    periods = row['Period'].split(',')\n",
        "    return [{'Country': country,\n",
        "             'Period': p.strip(),\n",
        "             'Conflict Description': description} for p in periods]\n",
        "\n",
        "\n",
        "expanded_rows = []\n",
        "for _, row in df_conflicts.iterrows():\n",
        "    expanded_rows.extend(split_periods(row))\n",
        "\n",
        "df_conflicts_expanded = pd.DataFrame(expanded_rows)\n",
        "\n",
        "\n",
        "def extract_years(period):\n",
        "    start_end = period.split('–')\n",
        "    start = start_end[0].strip()\n",
        "    end = start_end[1].strip() if len(start_end) > 1 else None\n",
        "    return pd.Series([start, end])\n",
        "\n",
        "df_conflicts_expanded[['Start Year', 'End Year']] = df_conflicts_expanded['Period'].apply(extract_years)\n",
        "\n",
        "df_conflicts_expanded.head(10)"
      ],
      "metadata": {
        "id": "l4tLErNWkIPV"
      },
      "execution_count": null,
      "outputs": []
    },
    {
      "cell_type": "code",
      "source": [
        "# Imputare HDI\n",
        "# Inainte\n",
        "print(\"Valori lipsa HDI\", df['HDI for year'].isna().sum())\n",
        "print(f\"Procent: {df['HDI for year'].isna().sum() / len(df) * 100:.2f}%\")\n",
        "\n",
        "# Tari fara HDI vs cele cu HDI\n",
        "countries_with_hdi = df.groupby('country')['HDI for year'].count()\n",
        "countries_without_hdi = countries_with_hdi[countries_with_hdi == 0].index.tolist()\n",
        "\n",
        "print(f\"Nr tari fara HDI: {len(countries_without_hdi)}\")\n",
        "if countries_without_hdi:\n",
        "    print(\"Nume tari:\", countries_without_hdi)"
      ],
      "metadata": {
        "id": "-pmOPex8v3Yo"
      },
      "execution_count": null,
      "outputs": []
    },
    {
      "cell_type": "code",
      "source": [
        "# Tari cu HDI\n",
        "df['HDI for year'] = df.groupby('country')['HDI for year'].transform(lambda x: x.fillna(x.mean()))\n",
        "df.head()"
      ],
      "metadata": {
        "id": "lC7QVW_IuuuB"
      },
      "execution_count": null,
      "outputs": []
    },
    {
      "cell_type": "code",
      "source": [
        "# Tari fara HDI\n",
        "# adaugare coloana de continente\n",
        "df = df.merge(df_continents, how=\"left\", on=\"country\")\n",
        "\n",
        "# media HDI pe tara si pe continent\n",
        "country_hdi_mean = df.groupby('country')['HDI for year'].transform('mean')\n",
        "continent_hdi_mean = df.groupby('continent')['HDI for year'].transform('mean')\n",
        "global_hdi_mean = df['HDI for year'].mean()\n",
        "\n",
        "# imputare\n",
        "# media pe tara\n",
        "df['HDI for year'] = df.groupby('country')['HDI for year'].transform(lambda x: x.fillna(x.mean()))\n",
        "\n",
        "# media pe continent\n",
        "df['HDI for year'] = df.groupby('continent')['HDI for year'].transform(lambda x: x.fillna(x.mean()))\n",
        "\n",
        "# media globala\n",
        "df['HDI for year'] = df['HDI for year'].fillna(df['HDI for year'].mean())\n",
        "\n",
        "print(\"Valori lipsa HDI:\", df['HDI for year'].isna().sum())"
      ],
      "metadata": {
        "id": "MPLTOl0lzRIw"
      },
      "execution_count": null,
      "outputs": []
    },
    {
      "cell_type": "code",
      "source": [
        "df.info()"
      ],
      "metadata": {
        "id": "xHzqNtrlvt70"
      },
      "execution_count": null,
      "outputs": []
    },
    {
      "cell_type": "code",
      "source": [
        "unique_countries = df['country'].unique().tolist()\n",
        "print(unique_countries)"
      ],
      "metadata": {
        "id": "uukjudwox-1z"
      },
      "execution_count": null,
      "outputs": []
    },
    {
      "cell_type": "code",
      "source": [
        "df.head(10)"
      ],
      "metadata": {
        "id": "fEapICF5wUjM"
      },
      "execution_count": null,
      "outputs": []
    },
    {
      "cell_type": "code",
      "source": [
        "df_processed = df.copy()\n",
        "\n",
        "def extract_age_range(age_str):\n",
        "    if isinstance(age_str, str):\n",
        "        age_str = age_str.replace('years', '').strip()\n",
        "        if '-' in age_str:\n",
        "            min_age, max_age = age_str.split('-')\n",
        "            return int(min_age), int(max_age)\n",
        "        elif '+' in age_str:\n",
        "            min_age = int(age_str.replace('+', ''))\n",
        "            return min_age, 100\n",
        "    return None, None\n",
        "\n",
        "df_processed[['age_min', 'age_max']] = df_processed['age'].apply(\n",
        "    lambda x: pd.Series(extract_age_range(x))\n",
        ")\n",
        "\n",
        "df_processed['age_mean'] = (df_processed['age_min'] + df_processed['age_max']) / 2\n",
        "\n",
        "def compute_weighted_or_mean(group_df):\n",
        "    total_suicides = group_df['suicides_no'].sum()\n",
        "    if total_suicides == 0:\n",
        "        return group_df['age_mean'].mean()\n",
        "    return (group_df['age_mean'] * group_df['suicides_no']).sum() / total_suicides\n",
        "\n",
        "group_data = df_processed.groupby('country')[['age_mean', 'suicides_no']]\n",
        "weighted_avg_age = group_data.apply(compute_weighted_or_mean).reset_index(name='avg_age_weighted')\n",
        "\n",
        "df_processed = df_processed.merge(weighted_avg_age, on='country', how='left')\n",
        "df_processed.drop(columns=['age_min', 'age_max'], inplace=True)\n",
        "\n",
        "df_processed.tail(10)"
      ],
      "metadata": {
        "id": "IBpaOk05vUMK"
      },
      "execution_count": null,
      "outputs": []
    },
    {
      "cell_type": "code",
      "source": [
        "if df_processed.isna().sum().sum() == 0:\n",
        "    print(\"nu sunt NaN uri\")\n"
      ],
      "metadata": {
        "id": "UCI-8fSJ7YQ7"
      },
      "execution_count": null,
      "outputs": []
    },
    {
      "cell_type": "markdown",
      "source": [
        "***Identificarea și tratarea valorilor aberante (outliers)***\n",
        "\n",
        "\n"
      ],
      "metadata": {
        "id": "O047Gm559n0y"
      }
    },
    {
      "cell_type": "code",
      "source": [
        "# in cazul in care vom avea nevoie de un df fara valori extreme\n",
        "# identificam si eliminam intr-un df separat\n",
        "\n",
        "num_cols = ['suicides_no', 'suicides/100k pop', 'population', 'HDI for year',\n",
        "            ' gdp_for_year ($) ', 'gdp_per_capita ($)', 'age_mean', 'avg_age_weighted']\n",
        "\n",
        "df_outlier = df_processed[num_cols].dropna()\n",
        "\n",
        "z_scores = np.abs(zscore(df_outlier))\n",
        "outliers_z = (z_scores > 3)\n",
        "outlier_counts_z = outliers_z.sum(axis=0)\n",
        "\n",
        "print(\"Outlieri zscore\")\n",
        "print(outlier_counts_z)\n",
        "\n",
        "Q1 = df_outlier.quantile(0.25)\n",
        "Q3 = df_outlier.quantile(0.75)\n",
        "IQR = Q3 - Q1\n",
        "\n",
        "outliers_iqr = ((df_outlier < (Q1 - 1.5 * IQR)) | (df_outlier > (Q3 + 1.5 * IQR)))\n",
        "outlier_counts_iqr = outliers_iqr.sum()\n",
        "\n",
        "print(\"Outlieri IQR:\")\n",
        "print(outlier_counts_iqr)\n",
        "\n",
        "plt.figure(figsize=(15, 8))\n",
        "for i, col in enumerate(num_cols):\n",
        "    plt.subplot(2, 4, i+1)\n",
        "    sns.boxplot(data=df_processed, y=col)\n",
        "    plt.title(col)\n",
        "plt.tight_layout()\n",
        "plt.show()\n"
      ],
      "metadata": {
        "id": "qYWLleJ29qKD"
      },
      "execution_count": null,
      "outputs": []
    },
    {
      "cell_type": "code",
      "source": [
        "# un dataframe cleaned in caz ca vom avea nevoie mai tarziu\n",
        "# desi si outlierii sunt relevanti in viitoarele grafice\n",
        "\n",
        "df_cleaned = df_processed.copy()\n",
        "\n",
        "num_cols = ['suicides_no', 'suicides/100k pop', 'population', 'HDI for year',\n",
        "            'gdp_for_year ($)', 'gdp_per_capita ($)', 'age_mean', 'avg_age_weighted']\n",
        "\n",
        "df_cleaned.columns = df_cleaned.columns.str.strip()\n",
        "\n",
        "def remove_outliers_iqr(df, column):\n",
        "    Q1 = df[column].quantile(0.25)\n",
        "    Q3 = df[column].quantile(0.75)\n",
        "    IQR = Q3 - Q1\n",
        "    lower_bound = Q1 - 1.5 * IQR\n",
        "    upper_bound = Q3 + 1.5 * IQR\n",
        "    return df[(df[column] >= lower_bound) & (df[column] <= upper_bound)]\n",
        "\n",
        "for col in ['suicides_no', 'suicides/100k pop', 'population', 'HDI for year',\n",
        "            'gdp_for_year ($)', 'gdp_per_capita ($)']:\n",
        "    df_cleaned = remove_outliers_iqr(df_cleaned, col)\n",
        "\n",
        "\n",
        "plt.figure(figsize=(15, 8))\n",
        "for i, col in enumerate(num_cols):\n",
        "    plt.subplot(2, 4, i+1)\n",
        "    sns.boxplot(data=df_cleaned, y=col)\n",
        "    plt.title(col)\n",
        "plt.tight_layout()\n",
        "plt.show()\n"
      ],
      "metadata": {
        "id": "w7iWD7gVASkO"
      },
      "execution_count": null,
      "outputs": []
    },
    {
      "cell_type": "markdown",
      "source": [
        "## Analiza cantitativă/statistică"
      ],
      "metadata": {
        "id": "futaeoyyjd2k"
      }
    },
    {
      "cell_type": "markdown",
      "source": [
        "Statistici descriptive pentru variabilele numerice\n",
        "* Calculul mediei, medianei, deviației standard, minimului, maximului\n",
        "* Interpretarea statisticilor descriptive în contextul problematicii\n",
        "\n",
        "\n",
        "Analiza frecvențelor pentru variabilele categorice\n",
        "* Distribuția sinuciderilor pe țări, gen, grupe de vârstă, generații\n",
        "* Identificarea categoriilor predominante\n",
        "\n",
        "\n",
        "Analiza tendințelor temporale\n",
        "* Evoluția numărului de sinucideri de-a lungul anilor\n",
        "* Calculul ratelor de creștere/descreștere\n",
        "\n",
        "\n",
        "Analize comparative\n",
        "* Compararea ratelor sinuciderii între diferite grupuri demografice\n",
        "* Analiza distribuției sinuciderilor în funcție de PIB/locuitor"
      ],
      "metadata": {
        "id": "4DZNQUhGjoT4"
      }
    },
    {
      "cell_type": "code",
      "source": [
        "# nu ma inteleg cu gpt ul\n",
        "# incerc eu =)"
      ],
      "metadata": {
        "id": "aQl8E2mkBqDy"
      },
      "execution_count": null,
      "outputs": []
    },
    {
      "cell_type": "markdown",
      "source": [
        "## Corelări"
      ],
      "metadata": {
        "id": "wZud5Yybji9E"
      }
    },
    {
      "cell_type": "markdown",
      "source": [
        "Calculul corelațiilor între variabilele numerice\n",
        "* Crearea matricei de corelație\n",
        "* Identificarea corelațiilor puternice (pozitive și negative)\n",
        "\n",
        "\n",
        "Analiza relației între variabilele socio-economice și rata sinuciderilor\n",
        "* Corelația între PIB/locuitor și rata sinuciderilor\n",
        "* Corelația între HDI (Indicele Dezvoltării Umane) și rata sinuciderilor\n",
        "\n",
        "\n",
        "Analiza corelațiilor între factori demografici și sinucideri\n",
        "* Relația dintre vârstă/generație și rata sinuciderii\n",
        "* Diferențe în rata sinuciderii în funcție de gen\n",
        "\n",
        "\n",
        "Teste statistice pentru validarea corelațiilor\n",
        "* Aplicarea testelor statistice relevante (ANOVA, chi-square)\n",
        "* Interpretarea rezultatelor testelor"
      ],
      "metadata": {
        "id": "B248Gd6Ej2KW"
      }
    },
    {
      "cell_type": "markdown",
      "source": [
        "## Vizualizări"
      ],
      "metadata": {
        "id": "3TrcPjsrjk8q"
      }
    },
    {
      "cell_type": "markdown",
      "source": [
        "Vizualizarea distribuției datelor\n",
        "* Histograme pentru variabilele numerice\n",
        "* Diagrame de tip bar chart pentru variabilele categorice\n",
        "\n",
        "\n",
        "Vizualizarea tendințelor temporale\n",
        "* Grafice de linie pentru evoluția sinuciderilor de-a lungul timpului\n",
        "* Heatmap-uri pentru reprezentarea tendințelor în funcție de mai multe variabile\n",
        "\n",
        "\n",
        "Vizualizarea comparativă\n",
        "* Box plot-uri pentru compararea distribuțiilor între grupuri\n",
        "* Diagrame de tip bar chart grupate pentru comparații între categorii\n",
        "\n",
        "\n",
        "Vizualizarea corelațiilor\n",
        "* Heatmap pentru matricea de corelație\n",
        "* Scatter plot-uri pentru relațiile între variabile continue\n",
        "\n",
        "\n",
        "Vizualizări geografice\n",
        "* Hărți coropleth pentru distribuția globală a sinuciderilor\n",
        "* Comparații regionale"
      ],
      "metadata": {
        "id": "rlIGKiqXkAui"
      }
    },
    {
      "cell_type": "markdown",
      "source": [
        "## Ipoteze"
      ],
      "metadata": {
        "id": "JQw3f5b8jpD_"
      }
    },
    {
      "cell_type": "markdown",
      "source": [
        "Formularea ipotezelor bazate pe analiză\n",
        "* Identificarea relațiilor potențiale între variabile\n",
        "* Propunerea unor explicații pentru tendințele observate\n",
        "\n",
        "\n",
        "Validarea preliminară a ipotezelor\n",
        "* Testarea preliminară a ipotezelor folosind datele disponibile\n",
        "* Discutarea limitărilor analizei\n",
        "\n",
        "\n",
        "Propuneri pentru analize ulterioare\n",
        "* Sugestii pentru explorări suplimentare\n",
        "* Variabile sau relații care necesită investigații mai detaliate\n",
        "\n",
        "\n",
        "Concluzii preliminare\n",
        "* Sumarizarea principalelor descoperiri\n",
        "* Implicații ale analizei pentru etapa următoare a proiectului"
      ],
      "metadata": {
        "id": "HsrFPZcakMey"
      }
    },
    {
      "cell_type": "markdown",
      "source": [
        "# Etapa 2: Modelarea datelor\n",
        "\n"
      ],
      "metadata": {
        "id": "l7Q3IYpYiXSZ"
      }
    },
    {
      "cell_type": "markdown",
      "source": [
        "În a doua etapă, echipele vor aplica tehnici de învățare automată pentru modelarea datelor. Vor implementa metode de regresie, clasificare sau clustering, în funcție de specificul setului de date ales. Evaluarea performanței modelelor și interpretarea rezultatelor vor fi esențiale în această etapă.\n",
        "\n",
        "\n"
      ],
      "metadata": {
        "id": "_KrBFZFKGFOD"
      }
    },
    {
      "cell_type": "code",
      "source": [],
      "metadata": {
        "id": "sr3TIgfA3kdB"
      },
      "execution_count": null,
      "outputs": []
    },
    {
      "cell_type": "markdown",
      "source": [
        "# Etapa 3: Prezentarea proiectului\n"
      ],
      "metadata": {
        "id": "TyS0hU8YGIIJ"
      }
    },
    {
      "cell_type": "markdown",
      "source": [
        "În ultima etapă, fiecare echipă va prezenta proiectul în fața clasei, explicând pașii parcurși, metodele utilizate și concluziile obținute. Veți discuta despre procesul de analiză a datelor, modelele aplicate și vizualizările realizate, oferind o înțelegere completă a proiectului.\n"
      ],
      "metadata": {
        "id": "kwfWivdQGK5N"
      }
    },
    {
      "cell_type": "code",
      "source": [],
      "metadata": {
        "id": "RJ7IE2Rd3lBz"
      },
      "execution_count": null,
      "outputs": []
    }
  ]
}